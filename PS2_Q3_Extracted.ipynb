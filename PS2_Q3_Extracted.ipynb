{
 "cells": [
  {
   "cell_type": "markdown",
   "id": "4c5f0926",
   "metadata": {},
   "source": [
    "# PS2_Q3 Extracted"
   ]
  },
  {
   "cell_type": "code",
   "execution_count": 1,
   "id": "d2c5cad1",
   "metadata": {},
   "outputs": [],
   "source": [
    "# 79: ------------------------------------------------------------------------\n",
    "import time\n",
    "import numpy as np\n",
    "import pandas as pd"
   ]
  },
  {
   "cell_type": "markdown",
   "id": "5bad138a",
   "metadata": {},
   "source": [
    "# Question 3 - NHANES"
   ]
  },
  {
   "cell_type": "markdown",
   "id": "59a36343",
   "metadata": {},
   "source": [
    "### (a) Import the data"
   ]
  },
  {
   "cell_type": "code",
   "execution_count": 2,
   "id": "31b19715",
   "metadata": {},
   "outputs": [],
   "source": [
    "# Read the dataframe\n",
    "nhanes1112_original = pd.read_sas('DEMO_G.XPT')\n",
    "nhanes1314_original = pd.read_sas('DEMO_H.XPT')\n",
    "nhanes1516_original = pd.read_sas('DEMO_I.XPT')\n",
    "nhanes1718_original = pd.read_sas('DEMO_J.XPT')\n",
    "\n",
    "# Choose the columns\n",
    "col_name_new = ['SEQN', 'RIDAGEYR', 'RIDRETH3', 'DMDEDUC2', \n",
    "                'DMDMARTL','RIDSTATR', 'SDMVPSU', 'SDMVSTRA', \n",
    "                'WTMEC2YR', 'WTINT2YR']\n",
    "\n",
    "nh1112 = nhanes1112_original[col_name_new]\n",
    "nh1314 = nhanes1314_original[col_name_new]\n",
    "nh1516 = nhanes1516_original[col_name_new]\n",
    "nh1718 = nhanes1718_original[col_name_new]"
   ]
  },
  {
   "cell_type": "code",
   "execution_count": 3,
   "id": "48469087",
   "metadata": {},
   "outputs": [
    {
     "data": {
      "text/plain": [
       "0       1.0\n",
       "1       2.0\n",
       "2       1.0\n",
       "3       2.0\n",
       "4       2.0\n",
       "       ... \n",
       "9751    1.0\n",
       "9752    2.0\n",
       "9753    2.0\n",
       "9754    1.0\n",
       "9755    1.0\n",
       "Name: RIAGENDR, Length: 9756, dtype: float64"
      ]
     },
     "execution_count": 3,
     "metadata": {},
     "output_type": "execute_result"
    }
   ],
   "source": [
    "nhanes1112_original['RIAGENDR']"
   ]
  },
  {
   "cell_type": "code",
   "execution_count": 4,
   "id": "befe1319",
   "metadata": {},
   "outputs": [],
   "source": [
    "# insert cohort column\n",
    "cohort_1112 = [1112] * len(nh1112)\n",
    "cohort_1314 = [1314] * len(nh1314)\n",
    "cohort_1516 = [1516] * len(nh1516)\n",
    "cohort_1718 = [1718] * len(nh1718)\n",
    "nh1112.insert(10, 'cohort', cohort_1112)\n",
    "nh1314.insert(10, 'cohort', cohort_1314)\n",
    "nh1516.insert(10, 'cohort', cohort_1516)\n",
    "nh1718.insert(10, 'cohort', cohort_1718)"
   ]
  },
  {
   "cell_type": "code",
   "execution_count": 5,
   "id": "f959f27b",
   "metadata": {},
   "outputs": [],
   "source": [
    "# Merge the dataframe\n",
    "nh = pd.concat([nh1112, nh1314, nh1516, nh1718])"
   ]
  },
  {
   "cell_type": "code",
   "execution_count": 6,
   "id": "2c314d5a",
   "metadata": {},
   "outputs": [],
   "source": [
    "# Rename the columns\n",
    "nh.columns = ['ids', 'age', 'race_ethnicity', 'education', \n",
    "              'material_status', 'weight1', 'weight2', \n",
    "              'weight3', 'weight4', 'weight5', 'cohort']"
   ]
  },
  {
   "cell_type": "code",
   "execution_count": 7,
   "id": "a8afaf9b",
   "metadata": {},
   "outputs": [],
   "source": [
    "# Replace the NaN values\n",
    "nh = nh.replace(np.nan, -1)"
   ]
  },
  {
   "cell_type": "code",
   "execution_count": 8,
   "id": "12dbbbf9",
   "metadata": {},
   "outputs": [],
   "source": [
    "# Change to the appropriate type\n",
    "nh = nh.astype({'ids': 'int32', 'age': 'int32', \n",
    "                'race_ethnicity': 'int32', \n",
    "                'education': 'int32', 'material_status': 'int32', \n",
    "                'weight1': 'int32', 'weight2': 'int32', \n",
    "                'weight3': 'int32'})"
   ]
  },
  {
   "cell_type": "code",
   "execution_count": 9,
   "id": "d4ab82b9",
   "metadata": {},
   "outputs": [
    {
     "data": {
      "text/html": [
       "<div>\n",
       "<style scoped>\n",
       "    .dataframe tbody tr th:only-of-type {\n",
       "        vertical-align: middle;\n",
       "    }\n",
       "\n",
       "    .dataframe tbody tr th {\n",
       "        vertical-align: top;\n",
       "    }\n",
       "\n",
       "    .dataframe thead th {\n",
       "        text-align: right;\n",
       "    }\n",
       "</style>\n",
       "<table border=\"1\" class=\"dataframe\">\n",
       "  <thead>\n",
       "    <tr style=\"text-align: right;\">\n",
       "      <th></th>\n",
       "      <th>ids</th>\n",
       "      <th>age</th>\n",
       "      <th>race_ethnicity</th>\n",
       "      <th>education</th>\n",
       "      <th>material_status</th>\n",
       "      <th>weight1</th>\n",
       "      <th>weight2</th>\n",
       "      <th>weight3</th>\n",
       "      <th>weight4</th>\n",
       "      <th>weight5</th>\n",
       "      <th>cohort</th>\n",
       "    </tr>\n",
       "  </thead>\n",
       "  <tbody>\n",
       "    <tr>\n",
       "      <th>0</th>\n",
       "      <td>62161</td>\n",
       "      <td>22</td>\n",
       "      <td>3</td>\n",
       "      <td>3</td>\n",
       "      <td>5</td>\n",
       "      <td>2</td>\n",
       "      <td>1</td>\n",
       "      <td>91</td>\n",
       "      <td>104236.582554</td>\n",
       "      <td>102641.406474</td>\n",
       "      <td>1112</td>\n",
       "    </tr>\n",
       "    <tr>\n",
       "      <th>1</th>\n",
       "      <td>62162</td>\n",
       "      <td>3</td>\n",
       "      <td>1</td>\n",
       "      <td>-1</td>\n",
       "      <td>-1</td>\n",
       "      <td>2</td>\n",
       "      <td>3</td>\n",
       "      <td>92</td>\n",
       "      <td>16116.354010</td>\n",
       "      <td>15457.736897</td>\n",
       "      <td>1112</td>\n",
       "    </tr>\n",
       "    <tr>\n",
       "      <th>2</th>\n",
       "      <td>62163</td>\n",
       "      <td>14</td>\n",
       "      <td>6</td>\n",
       "      <td>-1</td>\n",
       "      <td>-1</td>\n",
       "      <td>2</td>\n",
       "      <td>3</td>\n",
       "      <td>90</td>\n",
       "      <td>7869.485117</td>\n",
       "      <td>7397.684828</td>\n",
       "      <td>1112</td>\n",
       "    </tr>\n",
       "    <tr>\n",
       "      <th>3</th>\n",
       "      <td>62164</td>\n",
       "      <td>44</td>\n",
       "      <td>3</td>\n",
       "      <td>4</td>\n",
       "      <td>1</td>\n",
       "      <td>2</td>\n",
       "      <td>1</td>\n",
       "      <td>94</td>\n",
       "      <td>127965.226204</td>\n",
       "      <td>127351.373299</td>\n",
       "      <td>1112</td>\n",
       "    </tr>\n",
       "    <tr>\n",
       "      <th>4</th>\n",
       "      <td>62165</td>\n",
       "      <td>14</td>\n",
       "      <td>4</td>\n",
       "      <td>-1</td>\n",
       "      <td>-1</td>\n",
       "      <td>2</td>\n",
       "      <td>2</td>\n",
       "      <td>90</td>\n",
       "      <td>13384.042162</td>\n",
       "      <td>12209.744980</td>\n",
       "      <td>1112</td>\n",
       "    </tr>\n",
       "  </tbody>\n",
       "</table>\n",
       "</div>"
      ],
      "text/plain": [
       "     ids  age  race_ethnicity  education  material_status  weight1  weight2  \\\n",
       "0  62161   22               3          3                5        2        1   \n",
       "1  62162    3               1         -1               -1        2        3   \n",
       "2  62163   14               6         -1               -1        2        3   \n",
       "3  62164   44               3          4                1        2        1   \n",
       "4  62165   14               4         -1               -1        2        2   \n",
       "\n",
       "   weight3        weight4        weight5  cohort  \n",
       "0       91  104236.582554  102641.406474    1112  \n",
       "1       92   16116.354010   15457.736897    1112  \n",
       "2       90    7869.485117    7397.684828    1112  \n",
       "3       94  127965.226204  127351.373299    1112  \n",
       "4       90   13384.042162   12209.744980    1112  "
      ]
     },
     "execution_count": 9,
     "metadata": {},
     "output_type": "execute_result"
    }
   ],
   "source": [
    "nh.head()"
   ]
  },
  {
   "cell_type": "code",
   "execution_count": 10,
   "id": "e3fe1e0b",
   "metadata": {},
   "outputs": [],
   "source": [
    "# Save the result\n",
    "nh.to_pickle(\"./DEMO_GHIJ.pkl\")"
   ]
  },
  {
   "cell_type": "markdown",
   "id": "de14495c",
   "metadata": {},
   "source": [
    "### (b) Import the data - oral health and dentition data"
   ]
  },
  {
   "cell_type": "code",
   "execution_count": 11,
   "id": "9bf35fcc",
   "metadata": {},
   "outputs": [],
   "source": [
    "# Read the data set\n",
    "ohxden1112_original = pd.read_sas('OHXDEN_G.XPT')\n",
    "ohxden1314_original = pd.read_sas('OHXDEN_H.XPT')\n",
    "ohxden1516_original = pd.read_sas('OHXDEN_I.XPT')\n",
    "ohxden1718_original = pd.read_sas('OHXDEN_J.XPT')"
   ]
  },
  {
   "cell_type": "code",
   "execution_count": 12,
   "id": "2cfe3805",
   "metadata": {},
   "outputs": [],
   "source": [
    "# Choose the columns\n",
    "col_name = ['SEQN', 'OHDDESTS']\n",
    "OHXxxTC = str()\n",
    "OHXxxCTC = str()\n",
    "\n",
    "for i in range(33):\n",
    "    if  0 < i and i < 10:\n",
    "        OHXxxTC = 'OHX0' + str(i) + 'TC'\n",
    "        col_name.append(OHXxxTC)\n",
    "    elif 0 < i:\n",
    "        OHXxxTC = 'OHX' + str(i) + 'TC'    \n",
    "        col_name.append(OHXxxTC)\n",
    "    \n",
    "for j in range(32):\n",
    "    if 1 < j and j < 10:\n",
    "        OHXxxCTC = 'OHX0' + str(j) + 'CTC'\n",
    "        col_name.append(OHXxxCTC)\n",
    "    elif 1 < j and j < 32 and j != 16 and j != 17:\n",
    "        OHXxxCTC = 'OHX' + str(j) + 'CTC'\n",
    "        col_name.append(OHXxxCTC)"
   ]
  },
  {
   "cell_type": "code",
   "execution_count": 13,
   "id": "95b4ff76",
   "metadata": {},
   "outputs": [
    {
     "ename": "NameError",
     "evalue": "name 'xd' is not defined",
     "output_type": "error",
     "traceback": [
      "\u001b[1;31m---------------------------------------------------------------------------\u001b[0m",
      "\u001b[1;31mNameError\u001b[0m                                 Traceback (most recent call last)",
      "\u001b[1;32m<ipython-input-13-e3d08fd994b1>\u001b[0m in \u001b[0;36m<module>\u001b[1;34m\u001b[0m\n\u001b[0;32m     19\u001b[0m \u001b[0mcol_name_new\u001b[0m\u001b[1;33m.\u001b[0m\u001b[0mappend\u001b[0m\u001b[1;33m(\u001b[0m\u001b[1;34m'cohort'\u001b[0m\u001b[1;33m)\u001b[0m\u001b[1;33m\u001b[0m\u001b[1;33m\u001b[0m\u001b[0m\n\u001b[0;32m     20\u001b[0m \u001b[1;33m\u001b[0m\u001b[0m\n\u001b[1;32m---> 21\u001b[1;33m \u001b[0mxd\u001b[0m\u001b[1;33m.\u001b[0m\u001b[0mcolumns\u001b[0m \u001b[1;33m=\u001b[0m \u001b[0mcol_name_new\u001b[0m\u001b[1;33m\u001b[0m\u001b[1;33m\u001b[0m\u001b[0m\n\u001b[0m",
      "\u001b[1;31mNameError\u001b[0m: name 'xd' is not defined"
     ]
    }
   ],
   "source": [
    "# Rename the columns\n",
    "col_name_new = ['ids', 'ohddests']\n",
    "for i in range(33):\n",
    "    if  0 < i and i < 10:\n",
    "        OHXxxTC = 'tooth_count_0' + str(i)\n",
    "        col_name_new.append(OHXxxTC)\n",
    "    elif 0 < i:\n",
    "        OHXxxTC = 'tooth_count_' + str(i)    \n",
    "        col_name_new.append(OHXxxTC)\n",
    "    \n",
    "for j in range(32):\n",
    "    if 1 < j and j < 10:\n",
    "        OHXxxCTC = 'coronal_cavities_0' + str(j)\n",
    "        col_name_new.append(OHXxxCTC)\n",
    "    elif 1 < j and j < 32 and j != 16 and j != 17:\n",
    "        OHXxxCTC = 'coronal_cavities_' + str(j)\n",
    "        col_name_new.append(OHXxxCTC)\n",
    "\n",
    "col_name_new.append('cohort')\n",
    "\n",
    "xd.columns = col_name_new"
   ]
  },
  {
   "cell_type": "code",
   "execution_count": null,
   "id": "2bc72d19",
   "metadata": {},
   "outputs": [],
   "source": [
    "# Replace the NaN values\n",
    "xd.fillna(-1, inplace=True)"
   ]
  },
  {
   "cell_type": "code",
   "execution_count": null,
   "id": "4288e25c",
   "metadata": {},
   "outputs": [],
   "source": [
    "# Change the data into the appropriate type\n",
    "# Did not changed the b'S' and b'D' since I don't know what that means\n",
    "\n",
    "for i in range(len(col_name_new)):\n",
    "    if isinstance(xd.iloc[0,i], float):\n",
    "        xd = xd.astype({col_name_new[i]: 'int32'})"
   ]
  },
  {
   "cell_type": "code",
   "execution_count": null,
   "id": "dae4f3f7",
   "metadata": {},
   "outputs": [],
   "source": [
    "xd.head()"
   ]
  },
  {
   "cell_type": "code",
   "execution_count": null,
   "id": "90c32d3e",
   "metadata": {},
   "outputs": [],
   "source": [
    "# Save the result\n",
    "xd.to_pickle(\"./OHXDEN_GHIJ.pkl\")"
   ]
  },
  {
   "cell_type": "markdown",
   "id": "5a5a44bf",
   "metadata": {},
   "source": [
    "### (c) number of cases in two data sets"
   ]
  },
  {
   "cell_type": "code",
   "execution_count": null,
   "id": "2c9252f4",
   "metadata": {},
   "outputs": [],
   "source": [
    "print(len(nh))\n",
    "print(len(nh.columns))"
   ]
  },
  {
   "cell_type": "code",
   "execution_count": null,
   "id": "ce4a7a52",
   "metadata": {},
   "outputs": [],
   "source": [
    "print(len(xd))\n",
    "print(len(xd.columns))"
   ]
  },
  {
   "cell_type": "markdown",
   "id": "492f91e6",
   "metadata": {},
   "source": [
    "DataFrame from 3. (a) has 39156 rows (cases) with 11 columns\n",
    "\n",
    "DataFrame from 3. (b) has 35909 rows (cases) with 63 columns"
   ]
  }
 ],
 "metadata": {
  "kernelspec": {
   "display_name": "Python 3",
   "language": "python",
   "name": "python3"
  },
  "language_info": {
   "codemirror_mode": {
    "name": "ipython",
    "version": 3
   },
   "file_extension": ".py",
   "mimetype": "text/x-python",
   "name": "python",
   "nbconvert_exporter": "python",
   "pygments_lexer": "ipython3",
   "version": "3.8.8"
  }
 },
 "nbformat": 4,
 "nbformat_minor": 5
}
