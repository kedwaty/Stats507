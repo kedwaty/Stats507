{
 "cells": [
  {
   "cell_type": "code",
   "execution_count": 1,
   "metadata": {},
   "outputs": [
    {
     "name": "stdout",
     "output_type": "stream",
     "text": [
      "Requirement already satisfied: pandoc in c:\\users\\ywoo0\\anaconda3\\lib\\site-packages (1.1.0)\n",
      "Requirement already satisfied: ply in c:\\users\\ywoo0\\anaconda3\\lib\\site-packages (from pandoc) (3.11)\n",
      "Requirement already satisfied: plumbum in c:\\users\\ywoo0\\anaconda3\\lib\\site-packages (from pandoc) (1.7.0)\n",
      "Requirement already satisfied: pypiwin32 in c:\\users\\ywoo0\\anaconda3\\lib\\site-packages (from plumbum->pandoc) (223)\n",
      "Requirement already satisfied: pywin32>=223 in c:\\users\\ywoo0\\anaconda3\\lib\\site-packages (from pypiwin32->plumbum->pandoc) (227)\n",
      "Requirement already satisfied: tabulate in c:\\users\\ywoo0\\anaconda3\\lib\\site-packages (0.8.9)\n"
     ]
    }
   ],
   "source": [
    "from IPython.display import Markdown, display\n",
    "import sys\n",
    "!{sys.executable} -m pip install pandoc\n",
    "import math\n",
    "import time\n",
    "import numpy as np\n",
    "import pandas as pd\n",
    "import statistics as stats\n",
    "import scipy.stats\n",
    "!{sys.executable} -m pip install tabulate"
   ]
  },
  {
   "cell_type": "code",
   "execution_count": 2,
   "metadata": {
    "scrolled": true
   },
   "outputs": [
    {
     "data": {
      "text/markdown": [
       "\n",
       " # GSI comments \n",
       " ## -10 for functions w/o a docstring\n",
       " ## Q0: -3 for don't provide both raw and formatted versions\n",
       " I will correct both mistakes.",
       " "
      ],
      "text/plain": [
       "<IPython.core.display.Markdown object>"
      ]
     },
     "execution_count": 2,
     "metadata": {},
     "output_type": "execute_result"
    }
   ],
   "source": [
    "Markdown(f'''\n",
    " # Problem Set 1\n",
    " Statistics 507, Fall 2021\n",
    " youngwoo Kwon\n",
    " ''')"
   ]
  },
  {
   "cell_type": "code",
   "execution_count": 2,
   "metadata": {
    "scrolled": true
   },
   "outputs": [
    {
     "data": {
      "text/markdown": [
       "\n",
       " # Problem Set 1\n",
       " Statistics 507, Fall 2021\n",
       " youngwoo Kwon\n",
       " "
      ],
      "text/plain": [
       "<IPython.core.display.Markdown object>"
      ]
     },
     "execution_count": 2,
     "metadata": {},
     "output_type": "execute_result"
    }
   ],
   "source": [
    "Markdown(f'''\n",
    " # Problem Set 1\n",
    " Statistics 507, Fall 2021\n",
    " youngwoo Kwon\n",
    " ''')"
   ]
  },
  {
   "cell_type": "markdown",
   "metadata": {},
   "source": [
    "\n",
    "# Question 0 - Markdown Warmup\n",
    "\n",
    "***\n",
    "          \n",
    " This is _question 0_ for \n",
    " __[problem set 1](https://jbhender.github.io/Stats507/F21/ps/ps1.html)__ \n",
    " of __[Stats 507](https://jbhender.github.io/Stats507/F21/)__.  \n",
    "     \n",
    "> Question 0 is about Markdown.\n",
    "\n",
    "The next question is about the \n",
    "__Fibonacci sequence,__ \n",
    "$F_n = F_{'{n-1}'} + F_{'{n-2}'}$ \n",
    "In part __a__ we will define a Python function `fib_rec()`.\n",
    "\n",
    "Below is a …\n",
    "\n",
    "### Level 3 Header\n",
    "\n",
    "Next, we can make a bulleted list:\n",
    "          \n",
    "- Item 1\n",
    "\n",
    "    - detail 1\n",
    "    - detail 2\n",
    "- Item 2\n",
    "          \n",
    "Finally, we can make an enumerated list:\n",
    "\n",
    "    a. Item 1\n",
    "    b. Item 2\n",
    "    c. Item 3\n",
    "         \n",
    "***\n",
    "  "
   ]
  },
  {
   "cell_type": "markdown",
   "metadata": {},
   "source": [
    "# Question 1 - Fibonacci Sequence"
   ]
  },
  {
   "cell_type": "markdown",
   "metadata": {},
   "source": [
    "### (a) Recursive Function"
   ]
  },
  {
   "cell_type": "code",
   "execution_count": 3,
   "metadata": {},
   "outputs": [
    {
     "name": "stdout",
     "output_type": "stream",
     "text": [
      "13\n"
     ]
    }
   ],
   "source": [
    "# 79: ------------------------------------------------------------------------\n",
    "def fib_rec(n,a,b):\n",
    "    if n == 0:\n",
    "        return(a);\n",
    "    elif n == 1:\n",
    "        return(b);\n",
    "    elif n > 1:\n",
    "        return (fib_rec(n-1,a,b) + fib_rec(n-2,a,b))\n",
    "\n",
    "print(fib_rec(7,0,1))"
   ]
  },
  {
   "cell_type": "markdown",
   "metadata": {},
   "source": [
    "### (b) For-loop Function"
   ]
  },
  {
   "cell_type": "code",
   "execution_count": 4,
   "metadata": {},
   "outputs": [
    {
     "name": "stdout",
     "output_type": "stream",
     "text": [
      "89\n"
     ]
    }
   ],
   "source": [
    "def fib_for(n,a,b):   \n",
    "    fib_2 = a + b; \n",
    "    fib_1 = b;\n",
    "    fib_0 = a;\n",
    "    for i in range(n-2):\n",
    "        fib_0 = fib_1;\n",
    "        fib_1 = fib_2;\n",
    "        fib_2 = fib_0 + fib_1;\n",
    "    return(fib_2)\n",
    "\n",
    "print(fib_for(11,0,1))"
   ]
  },
  {
   "cell_type": "markdown",
   "metadata": {},
   "source": [
    "### (c) While-loop Function"
   ]
  },
  {
   "cell_type": "code",
   "execution_count": 5,
   "metadata": {},
   "outputs": [
    {
     "name": "stdout",
     "output_type": "stream",
     "text": [
      "89\n"
     ]
    }
   ],
   "source": [
    "def fib_whl(n,a,b):   \n",
    "    fib_2 = a + b; \n",
    "    fib_1 = b;\n",
    "    fib_0 = a;\n",
    "    i = 0;\n",
    "    while i < n - 2:\n",
    "        fib_0 = fib_1;\n",
    "        fib_1 = fib_2;\n",
    "        fib_2 = fib_0 + fib_1;\n",
    "        i = i + 1;    \n",
    "    return(fib_2)\n",
    "\n",
    "print(fib_whl(11,0,1))"
   ]
  },
  {
   "cell_type": "markdown",
   "metadata": {},
   "source": [
    "### (d) Rounding Method Function"
   ]
  },
  {
   "cell_type": "code",
   "execution_count": 6,
   "metadata": {},
   "outputs": [
    {
     "name": "stdout",
     "output_type": "stream",
     "text": [
      "89\n"
     ]
    }
   ],
   "source": [
    "def fib_rnd(n,a,b):\n",
    "    est = (((1 + 5 ** 0.5)/2) ** n) / (5**0.5);\n",
    "    fib_2 = round(est);\n",
    "    return(fib_2)\n",
    "\n",
    "print(fib_rnd(11,0,1))"
   ]
  },
  {
   "cell_type": "markdown",
   "metadata": {},
   "source": [
    "### (e) Truncation Method Function"
   ]
  },
  {
   "cell_type": "code",
   "execution_count": 7,
   "metadata": {},
   "outputs": [
    {
     "name": "stdout",
     "output_type": "stream",
     "text": [
      "89\n"
     ]
    }
   ],
   "source": [
    "def fib_flr(n,a,b):\n",
    "    est = (((1 + 5 ** 0.5)/2) ** n) / (5**0.5) + 0.5;\n",
    "    fib_2 = math.trunc(est);\n",
    "    return(fib_2)\n",
    "\n",
    "print(fib_flr(11,0,1))"
   ]
  },
  {
   "cell_type": "markdown",
   "metadata": {},
   "source": [
    "### (f) Computation time for large n"
   ]
  },
  {
   "cell_type": "code",
   "execution_count": 8,
   "metadata": {},
   "outputs": [],
   "source": [
    "t_rec = np.ones((20,3));\n",
    "a = 0;\n",
    "b = 1;\n",
    "large_n = [31,33,35];\n",
    "rep_time = 20;\n",
    "\n",
    "for m in range(3):\n",
    "    n = large_n[m]\n",
    "    for i in range(rep_time):\n",
    "        start_time = time.time()\n",
    "        fib_rec(n,a,b);\n",
    "        t_rec[i,m] = time.time() - start_time;"
   ]
  },
  {
   "cell_type": "code",
   "execution_count": 9,
   "metadata": {},
   "outputs": [],
   "source": [
    "t_for = np.ones((20,3));\n",
    "\n",
    "for m in range(3):\n",
    "    n = large_n[m]\n",
    "    for i in range(rep_time):\n",
    "        start_time = time.time()\n",
    "        for l in range(10000):\n",
    "            fib_for(n,a,b);\n",
    "        t_for[i,m] = (time.time() - start_time)/10000;"
   ]
  },
  {
   "cell_type": "code",
   "execution_count": 10,
   "metadata": {},
   "outputs": [],
   "source": [
    "t_whl = np.ones((20,3));\n",
    "\n",
    "for m in range(3):\n",
    "    n = large_n[m]\n",
    "    for i in range(rep_time):\n",
    "        start_time = time.time()\n",
    "        for l in range(10000):\n",
    "            fib_whl(n,a,b);\n",
    "        t_whl[i,m] = (time.time() - start_time)/10000;"
   ]
  },
  {
   "cell_type": "code",
   "execution_count": 11,
   "metadata": {},
   "outputs": [],
   "source": [
    "t_rnd = np.ones((20,3));\n",
    "\n",
    "for m in range(3):\n",
    "    n = large_n[m]\n",
    "    for i in range(rep_time):\n",
    "        start_time = time.time()\n",
    "        for l in range(10000):\n",
    "            fib_rnd(n,a,b);\n",
    "        t_rnd[i,m] = (time.time() - start_time)/10000;"
   ]
  },
  {
   "cell_type": "code",
   "execution_count": 12,
   "metadata": {},
   "outputs": [],
   "source": [
    "t_flr = np.ones((20,3));\n",
    "\n",
    "for m in range(3):\n",
    "    n = large_n[m]\n",
    "    for i in range(rep_time):\n",
    "        start_time = time.time()\n",
    "        for l in range(10000):\n",
    "            fib_rnd(n,a,b);\n",
    "        t_flr[i,m] = (time.time() - start_time)/10000;"
   ]
  },
  {
   "cell_type": "code",
   "execution_count": 13,
   "metadata": {},
   "outputs": [],
   "source": [
    "def median(vec):\n",
    "    return(stats.median(vec))\n",
    "\n",
    "dat = {'31': [median(t_rec[:,0]), median(t_for[:,0]),median(t_whl[:,0]),\n",
    "               median(t_rnd[:,0]), median(t_flr[:,0]),],\n",
    "        '33': [median(t_rec[:,1]), median(t_for[:,1]),median(t_whl[:,1]),\n",
    "               median(t_rnd[:,1]), median(t_flr[:,1]),],\n",
    "        '35': [median(t_rec[:,2]), median(t_for[:,2]),median(t_whl[:,2]),\n",
    "               median(t_rnd[:,2]), median(t_flr[:,2])]}"
   ]
  },
  {
   "cell_type": "code",
   "execution_count": 14,
   "metadata": {},
   "outputs": [
    {
     "data": {
      "text/markdown": [
       "|            |          31 |          33 |          35 |\n",
       "|:-----------|------------:|------------:|------------:|\n",
       "| Recursion  | 1.12383     | 3.21423     | 8.27342     |\n",
       "| For-loop   | 4.6877e-06  | 4.68782e-06 | 4.68782e-06 |\n",
       "| While-loop | 7.81292e-06 | 7.813e-06   | 7.81302e-06 |\n",
       "| Round      | 1.00011e-06 | 1.24931e-06 | 7.81178e-07 |\n",
       "| Floor      | 1.05002e-06 | 1.56256e-06 | 1.56235e-06 |"
      ],
      "text/plain": [
       "<IPython.core.display.Markdown object>"
      ]
     },
     "metadata": {},
     "output_type": "display_data"
    }
   ],
   "source": [
    "df = pd.DataFrame(data=dat)\n",
    "df_md = df.to_markdown(\n",
    "    index=['Recursion','For-loop','While-loop', 'Round', 'Floor'])\n",
    "display(Markdown(df_md)) "
   ]
  },
  {
   "cell_type": "markdown",
   "metadata": {},
   "source": [
    "# Question 2 - Pascal's Triangle"
   ]
  },
  {
   "cell_type": "markdown",
   "metadata": {},
   "source": [
    "### (a) Row of the Pascal's Triangle"
   ]
  },
  {
   "cell_type": "code",
   "execution_count": 15,
   "metadata": {},
   "outputs": [],
   "source": [
    "def Psc_row(n):\n",
    "    row = [1];\n",
    "    num = 1;\n",
    "    for i in range(n-1):\n",
    "        num = int(num * (n - 1 - i) / (i + 1));\n",
    "        row.append(num);\n",
    "    return(row)"
   ]
  },
  {
   "cell_type": "markdown",
   "metadata": {},
   "source": [
    "### (b) Pascal's Triangle"
   ]
  },
  {
   "cell_type": "code",
   "execution_count": 16,
   "metadata": {},
   "outputs": [
    {
     "name": "stdout",
     "output_type": "stream",
     "text": [
      "                                       1     \n",
      "                                    1     1     \n",
      "                                 1     2     1     \n",
      "                              1     3     3     1     \n",
      "                           1     4     6     4     1     \n",
      "                        1     5     10    10    5     1     \n",
      "                     1     6     15    20    15    6     1     \n",
      "                  1     7     21    35    35    21    7     1     \n",
      "               1     8     28    56    70    56    28    8     1     \n",
      "            1     9     36    84    126   126   84    36    9     1     \n",
      "         1     10    45    120   210   252   210   120   45    10    1     \n",
      "      1     11    55    165   330   462   462   330   165   55    11    1     \n"
     ]
    }
   ],
   "source": [
    "def Psc(n):\n",
    "    for i in range(n+1):\n",
    "        for j in range(n-i+2):\n",
    "            print(end = \"   \");\n",
    " \n",
    "        for j in range(i+1):\n",
    "            print(Psc_row(i+1)[j],end = \"   \");\n",
    "            if Psc_row(i+1)[j] < 10:\n",
    "                print(end = \" \");\n",
    "            if Psc_row(i+1)[j] < 100:\n",
    "                print(end = \" \");\n",
    "        print()\n",
    "    \n",
    "Psc(11)"
   ]
  },
  {
   "cell_type": "markdown",
   "metadata": {},
   "source": [
    "# Question 3 - Statistics 101"
   ]
  },
  {
   "cell_type": "markdown",
   "metadata": {},
   "source": [
    "### (a) Normal interval"
   ]
  },
  {
   "cell_type": "code",
   "execution_count": 17,
   "metadata": {},
   "outputs": [],
   "source": [
    "def confidence_interval(data, level, output_format):\n",
    "    mean = np.mean(data)\n",
    "    se = scipy.stats.sem(data)\n",
    "    z = scipy.stats.norm.ppf((1+level)/2)\n",
    "    cI = {'est': round(mean,4), 'lwr': round(mean - z * se,4),\n",
    "          'upr': round(mean + z * se,4), 'level' : level}\n",
    "    if output_format == None:\n",
    "        return(cI)\n",
    "    elif output_format == 'string':\n",
    "        level = int(level * 100);\n",
    "        cI = {'est': round(mean,4), 'lwr': round(mean - z * se,4),\n",
    "              'upr': round(mean + z * se,4), 'level' : level}\n",
    "        str = '{est} [{level}% CI : ({lwr}, {upr})]'.format_map(cI)\n",
    "        return(str)"
   ]
  },
  {
   "cell_type": "markdown",
   "metadata": {},
   "source": [
    "### (b) Binomial Method_Normal, CP, Jeffrey, AC"
   ]
  },
  {
   "cell_type": "code",
   "execution_count": 18,
   "metadata": {},
   "outputs": [],
   "source": [
    "def binomial_interval(data, level, output_format, method):\n",
    "    def binomial_interval_normal(data, level, output_format):\n",
    "        phat = np.count_nonzero(data == 1) / data.size;\n",
    "        z = scipy.stats.norm.ppf((1+level)/2)\n",
    "        range_ver = ((phat * (1-phat))/data.size) ** 0.5\n",
    "        cI = {'est': round(phat,4), 'lwr': round(phat - z * range_ver,4), \n",
    "               'upr': round(phat + z * range_ver,4), 'level' : level}\n",
    "        \n",
    "        if max(data.size * phat, data.size * (1-phat)) <= 12:\n",
    "            print(\"Warning : The approximation considered inadequate\");\n",
    "        if output_format == None:\n",
    "            return(cI)\n",
    "        elif output_format == 'string':\n",
    "            level = int(level * 100);\n",
    "            cI = {'est': round(phat,4), \n",
    "                  'lwr': round(phat - z * range_ver,4),\n",
    "                  'upr': round(phat + z * range_ver,4), 'level' : level}\n",
    "            str = '{est} [{level}% CI : ({lwr}, {upr})]'.format_map(cI)\n",
    "            return(str)  \n",
    "        \n",
    "    def bionmial_interval_CP(data, level, output_format):\n",
    "        phat = np.count_nonzero(data == 1) / data.size;\n",
    "        x = np.count_nonzero(data == 1);\n",
    "        alpha = 1 - level;\n",
    "        lwr = scipy.stats.beta.ppf(alpha/2, x, data.size - x + 1);\n",
    "        upr = scipy.stats.beta.ppf(1-alpha/2, x+1, data.size - x);\n",
    "        cI = {'est': round(phat,4), 'lwr': round(lwr,4), \n",
    "               'upr': round(upr,4), 'level' : level}\n",
    "        if output_format == None:\n",
    "            return(cI)\n",
    "        elif output_format == 'string':\n",
    "            level = int(level * 100);\n",
    "            cI = {'est': round(phat,4), 'lwr': round(lwr,4), \n",
    "               'upr': round(upr,4), 'level' : level}        \n",
    "            str = '{est} [{level}% CI : ({lwr}, {upr})]'.format_map(cI);\n",
    "            return(str)                 \n",
    "        \n",
    "    def bionmial_interval_Jeffrey(data, level, output_format):\n",
    "        phat = np.count_nonzero(data == 1) / data.size;  \n",
    "        x = np.count_nonzero(data == 1);\n",
    "        alpha = 1 - level;\n",
    "        lwr = scipy.stats.beta.ppf(alpha/2, x + 0.5, data.size - x + 0.5);\n",
    "        upr = scipy.stats.beta.ppf(1-alpha/2, x + 0.5, data.size - x + 0.5); \n",
    "        \n",
    "        if lwr < 0:\n",
    "            lwr = 0;\n",
    "        if upr > 1:\n",
    "            upr = 1;\n",
    "        \n",
    "        cI = {'est': round(phat,4), 'lwr': round(lwr,4), \n",
    "               'upr': round(upr,4), 'level' : level}\n",
    "        \n",
    "        if output_format == None:\n",
    "            return(cI)\n",
    "        elif output_format == 'string':\n",
    "            level = int(level * 100);\n",
    "            cI = {'est': round(phat,4), 'lwr': round(lwr,4), \n",
    "               'upr': round(upr,4), 'level' : level}        \n",
    "            str = '{est} [{level}% CI : ({lwr}, {upr})]'.format_map(cI);\n",
    "            return(str)\n",
    "        \n",
    "    def bionmial_interval_AC(data, level, output_format):\n",
    "        z = scipy.stats.norm.ppf((1+level)/2);\n",
    "        n = data.size + z ** 2;\n",
    "        phat = (np.count_nonzero(data == 1)+ (z ** 2)/2)/n;\n",
    "        range_ver = ((phat * (1-phat))/n) ** 0.5\n",
    "        cI = {'est': round(phat,4), 'lwr': round(phat - z * range_ver,4), \n",
    "               'upr': round(phat + z * range_ver,4), 'level' : level}\n",
    "        \n",
    "        if max(data.size * phat, data.size * (1-phat)) <= 12:\n",
    "            print(\"Warning : The approximation considered inadequate\");\n",
    "        if output_format == None:\n",
    "            return(cI)\n",
    "        elif output_format == 'string':\n",
    "            level = int(level * 100);\n",
    "            cI = {'est': round(phat,4), \n",
    "                  'lwr': round(phat - z * range_ver,4),\n",
    "                  'upr': round(phat + z * range_ver,4), 'level' : level}\n",
    "            str = '{est} [{level}% CI : ({lwr}, {upr})]'.format_map(cI)\n",
    "            return(str)             \n",
    "        \n",
    "        \n",
    "        \n",
    "    if method == 'normal':\n",
    "        return(binomial_interval_normal(data, level, output_format));\n",
    "    \n",
    "    elif method == 'CP':\n",
    "        return(bionmial_interval_CP(data, level, output_format));\n",
    "    \n",
    "    elif method == 'Jeffrey':\n",
    "        return(bionmial_interval_Jeffrey(data, level, output_format))\n",
    "    \n",
    "    elif method == 'AC':\n",
    "        return(bionmial_interval_AC(data, level, output_format))\n",
    "    \n",
    "    else:\n",
    "        print('Method not vaild');\n",
    "        return(None)"
   ]
  },
  {
   "cell_type": "markdown",
   "metadata": {},
   "source": [
    "### (c) Table of the outcome"
   ]
  },
  {
   "cell_type": "code",
   "execution_count": 19,
   "metadata": {},
   "outputs": [],
   "source": [
    "a1 = np.zeros(48);\n",
    "a2 = np.ones(42);\n",
    "arr = np.concatenate((a1, a2))\n",
    "np.random.shuffle(arr)"
   ]
  },
  {
   "cell_type": "code",
   "execution_count": 20,
   "metadata": {},
   "outputs": [],
   "source": [
    "def data_return(type, level):\n",
    "    var = 'null';\n",
    "    if type == 0:\n",
    "        var = 'est';\n",
    "    elif type == 1:\n",
    "        var = 'lwr';\n",
    "    elif type == 2:\n",
    "        var = 'upr';\n",
    "        \n",
    "    ary = [confidence_interval(arr, 0.90, output_format = None)[var],\n",
    "    binomial_interval(data = arr, level = level, \n",
    "                      output_format = None, method = 'normal')[var],\n",
    "    binomial_interval(data = arr, level = level, \n",
    "                      output_format = None, method = 'CP')[var],\n",
    "    binomial_interval(data = arr, level = level, \n",
    "                      output_format = None, method = 'Jeffrey')[var],\n",
    "    binomial_interval(data = arr, level = level, \n",
    "                      output_format = None, method = 'AC')[var]]\n",
    "    return(ary)\n",
    "\n",
    "dat2 = {\n",
    "'0.90 est' : data_return(0, 0.90),\n",
    "'0.90 lwr' : data_return(1, 0.90),\n",
    "'0.90 upr' : data_return(2, 0.90),\n",
    "'0.95 est' : data_return(0, 0.95),\n",
    "'0.95 lwr' : data_return(1, 0.95),\n",
    "'0.95 upr' : data_return(2, 0.95),\n",
    "'0.99 est' : data_return(0, 0.99),\n",
    "'0.99 lwr' : data_return(1, 0.99),\n",
    "'0.99 upr' : data_return(2, 0.99),\n",
    "}"
   ]
  },
  {
   "cell_type": "code",
   "execution_count": 21,
   "metadata": {},
   "outputs": [
    {
     "data": {
      "text/markdown": [
       "|                  |   0.90 est |   0.90 lwr |   0.90 upr |   0.95 est |   0.95 lwr |   0.95 upr |   0.99 est |   0.99 lwr |   0.99 upr |\n",
       "|:-----------------|-----------:|-----------:|-----------:|-----------:|-----------:|-----------:|-----------:|-----------:|-----------:|\n",
       "| Normal           |     0.4667 |     0.3797 |     0.5536 |     0.4667 |     0.3797 |     0.5536 |     0.4667 |     0.3797 |     0.5536 |\n",
       "| Bionmial_normal  |     0.4667 |     0.3802 |     0.5532 |     0.4667 |     0.3636 |     0.5697 |     0.4667 |     0.3312 |     0.6021 |\n",
       "| Binomial_CP      |     0.4667 |     0.3765 |     0.5586 |     0.4667 |     0.3607 |     0.5749 |     0.4667 |     0.3306 |     0.6064 |\n",
       "| Binomial_Jeffrey |     0.4667 |     0.3818 |     0.5531 |     0.4667 |     0.366  |     0.5694 |     0.4667 |     0.3357 |     0.601  |\n",
       "| Binomial_AC      |     0.4676 |     0.3824 |     0.5529 |     0.468  |     0.3671 |     0.569  |     0.469  |     0.3382 |     0.5997 |"
      ],
      "text/plain": [
       "<IPython.core.display.Markdown object>"
      ]
     },
     "metadata": {},
     "output_type": "display_data"
    }
   ],
   "source": [
    "#79: ------------------------------------------------------------------------\n",
    "df2 = pd.DataFrame(data=dat2)\n",
    "df2_md = df2.to_markdown(\n",
    "    index=['Normal','Bionmial_normal','Binomial_CP',\n",
    "           'Binomial_Jeffrey', 'Binomial_AC'])\n",
    "display(Markdown(df2_md)) "
   ]
  },
  {
   "cell_type": "markdown",
   "metadata": {},
   "source": [
    "In 90% confidence interval, Binomial_AC showed the smallest width.\n",
    "In 95% confidence interval, Binomial_AC showed the smallest width.\n",
    "In 99% confidence interval, Binomial_AC showed the smallest width."
   ]
  }
 ],
 "metadata": {
  "kernelspec": {
   "display_name": "Python 3",
   "language": "python",
   "name": "python3"
  },
  "language_info": {
   "codemirror_mode": {
    "name": "ipython",
    "version": 3
   },
   "file_extension": ".py",
   "mimetype": "text/x-python",
   "name": "python",
   "nbconvert_exporter": "python",
   "pygments_lexer": "ipython3",
   "version": "3.8.8"
  }
 },
 "nbformat": 4,
 "nbformat_minor": 2
}
